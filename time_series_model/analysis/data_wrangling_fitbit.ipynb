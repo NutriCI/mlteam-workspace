{
 "cells": [
  {
   "cell_type": "markdown",
   "metadata": {},
   "source": [
    "Imports"
   ]
  },
  {
   "cell_type": "code",
   "execution_count": 18,
   "metadata": {},
   "outputs": [],
   "source": [
    "import numpy as np\n",
    "import pandas as pd\n",
    "import matplotlib.pyplot as plt\n",
    "import seaborn as sns"
   ]
  },
  {
   "cell_type": "markdown",
   "metadata": {},
   "source": [
    "Load Data"
   ]
  },
  {
   "cell_type": "code",
   "execution_count": 19,
   "metadata": {},
   "outputs": [
    {
     "data": {
      "text/html": [
       "<div>\n",
       "<style scoped>\n",
       "    .dataframe tbody tr th:only-of-type {\n",
       "        vertical-align: middle;\n",
       "    }\n",
       "\n",
       "    .dataframe tbody tr th {\n",
       "        vertical-align: top;\n",
       "    }\n",
       "\n",
       "    .dataframe thead th {\n",
       "        text-align: right;\n",
       "    }\n",
       "</style>\n",
       "<table border=\"1\" class=\"dataframe\">\n",
       "  <thead>\n",
       "    <tr style=\"text-align: right;\">\n",
       "      <th></th>\n",
       "      <th>date</th>\n",
       "      <th>steps</th>\n",
       "      <th>minutesVeryActive</th>\n",
       "      <th>minutesSedentary</th>\n",
       "      <th>minutesLightlyActive</th>\n",
       "      <th>minutesFairlyActive</th>\n",
       "      <th>calories</th>\n",
       "      <th>activityCalories</th>\n",
       "      <th>daily_activity</th>\n",
       "      <th>activity_start_time</th>\n",
       "      <th>minutesAsleep</th>\n",
       "      <th>minutesAwake</th>\n",
       "      <th>time_in_bed</th>\n",
       "      <th>efficiency</th>\n",
       "      <th>distance</th>\n",
       "      <th>location</th>\n",
       "      <th>sleep_start_time</th>\n",
       "    </tr>\n",
       "  </thead>\n",
       "  <tbody>\n",
       "    <tr>\n",
       "      <th>0</th>\n",
       "      <td>12/07/2021</td>\n",
       "      <td>12866</td>\n",
       "      <td>37</td>\n",
       "      <td>672</td>\n",
       "      <td>269</td>\n",
       "      <td>5</td>\n",
       "      <td>3245</td>\n",
       "      <td>1600</td>\n",
       "      <td>running</td>\n",
       "      <td>14:41</td>\n",
       "      <td>508</td>\n",
       "      <td>20</td>\n",
       "      <td>448</td>\n",
       "      <td>81.379861</td>\n",
       "      <td>0.14062</td>\n",
       "      <td>1</td>\n",
       "      <td>23:09:00</td>\n",
       "    </tr>\n",
       "    <tr>\n",
       "      <th>1</th>\n",
       "      <td>13/07/2021</td>\n",
       "      <td>2731</td>\n",
       "      <td>0</td>\n",
       "      <td>907</td>\n",
       "      <td>111</td>\n",
       "      <td>0</td>\n",
       "      <td>2219</td>\n",
       "      <td>467</td>\n",
       "      <td>walking</td>\n",
       "      <td>14:52</td>\n",
       "      <td>428</td>\n",
       "      <td>29</td>\n",
       "      <td>448</td>\n",
       "      <td>86.717956</td>\n",
       "      <td>1.98551</td>\n",
       "      <td>1</td>\n",
       "      <td>23:21:00</td>\n",
       "    </tr>\n",
       "    <tr>\n",
       "      <th>2</th>\n",
       "      <td>14/07/2021</td>\n",
       "      <td>2160</td>\n",
       "      <td>0</td>\n",
       "      <td>1055</td>\n",
       "      <td>72</td>\n",
       "      <td>0</td>\n",
       "      <td>2029</td>\n",
       "      <td>309</td>\n",
       "      <td>resting</td>\n",
       "      <td>08:00</td>\n",
       "      <td>435</td>\n",
       "      <td>9</td>\n",
       "      <td>448</td>\n",
       "      <td>83.857431</td>\n",
       "      <td>3.65184</td>\n",
       "      <td>0</td>\n",
       "      <td>23:51:00</td>\n",
       "    </tr>\n",
       "    <tr>\n",
       "      <th>3</th>\n",
       "      <td>15/07/2021</td>\n",
       "      <td>5725</td>\n",
       "      <td>23</td>\n",
       "      <td>836</td>\n",
       "      <td>150</td>\n",
       "      <td>18</td>\n",
       "      <td>2734</td>\n",
       "      <td>961</td>\n",
       "      <td>running</td>\n",
       "      <td>14:47</td>\n",
       "      <td>460</td>\n",
       "      <td>18</td>\n",
       "      <td>448</td>\n",
       "      <td>84.370987</td>\n",
       "      <td>4.16213</td>\n",
       "      <td>1</td>\n",
       "      <td>23:16:00</td>\n",
       "    </tr>\n",
       "    <tr>\n",
       "      <th>4</th>\n",
       "      <td>16/07/2021</td>\n",
       "      <td>2160</td>\n",
       "      <td>0</td>\n",
       "      <td>1055</td>\n",
       "      <td>72</td>\n",
       "      <td>0</td>\n",
       "      <td>2029</td>\n",
       "      <td>309</td>\n",
       "      <td>resting</td>\n",
       "      <td>08:00</td>\n",
       "      <td>487</td>\n",
       "      <td>16</td>\n",
       "      <td>448</td>\n",
       "      <td>87.181815</td>\n",
       "      <td>4.16213</td>\n",
       "      <td>0</td>\n",
       "      <td>23:17:00</td>\n",
       "    </tr>\n",
       "    <tr>\n",
       "      <th>...</th>\n",
       "      <td>...</td>\n",
       "      <td>...</td>\n",
       "      <td>...</td>\n",
       "      <td>...</td>\n",
       "      <td>...</td>\n",
       "      <td>...</td>\n",
       "      <td>...</td>\n",
       "      <td>...</td>\n",
       "      <td>...</td>\n",
       "      <td>...</td>\n",
       "      <td>...</td>\n",
       "      <td>...</td>\n",
       "      <td>...</td>\n",
       "      <td>...</td>\n",
       "      <td>...</td>\n",
       "      <td>...</td>\n",
       "      <td>...</td>\n",
       "    </tr>\n",
       "    <tr>\n",
       "      <th>149</th>\n",
       "      <td>08/12/2021</td>\n",
       "      <td>4493</td>\n",
       "      <td>6</td>\n",
       "      <td>1096</td>\n",
       "      <td>133</td>\n",
       "      <td>22</td>\n",
       "      <td>2487</td>\n",
       "      <td>750</td>\n",
       "      <td>walking</td>\n",
       "      <td>14:43</td>\n",
       "      <td>486</td>\n",
       "      <td>22</td>\n",
       "      <td>448</td>\n",
       "      <td>84.324086</td>\n",
       "      <td>2.51991</td>\n",
       "      <td>1</td>\n",
       "      <td>23:48:00</td>\n",
       "    </tr>\n",
       "    <tr>\n",
       "      <th>150</th>\n",
       "      <td>09/12/2021</td>\n",
       "      <td>3827</td>\n",
       "      <td>0</td>\n",
       "      <td>890</td>\n",
       "      <td>163</td>\n",
       "      <td>0</td>\n",
       "      <td>2366</td>\n",
       "      <td>665</td>\n",
       "      <td>walking</td>\n",
       "      <td>14:41</td>\n",
       "      <td>439</td>\n",
       "      <td>11</td>\n",
       "      <td>448</td>\n",
       "      <td>85.170915</td>\n",
       "      <td>3.26652</td>\n",
       "      <td>1</td>\n",
       "      <td>23:28:00</td>\n",
       "    </tr>\n",
       "    <tr>\n",
       "      <th>151</th>\n",
       "      <td>10/12/2021</td>\n",
       "      <td>4416</td>\n",
       "      <td>0</td>\n",
       "      <td>1080</td>\n",
       "      <td>179</td>\n",
       "      <td>0</td>\n",
       "      <td>2423</td>\n",
       "      <td>714</td>\n",
       "      <td>walking</td>\n",
       "      <td>14:52</td>\n",
       "      <td>440</td>\n",
       "      <td>17</td>\n",
       "      <td>448</td>\n",
       "      <td>84.440888</td>\n",
       "      <td>2.78230</td>\n",
       "      <td>1</td>\n",
       "      <td>23:51:00</td>\n",
       "    </tr>\n",
       "    <tr>\n",
       "      <th>152</th>\n",
       "      <td>11/12/2021</td>\n",
       "      <td>5901</td>\n",
       "      <td>0</td>\n",
       "      <td>815</td>\n",
       "      <td>251</td>\n",
       "      <td>0</td>\n",
       "      <td>2676</td>\n",
       "      <td>1009</td>\n",
       "      <td>walking</td>\n",
       "      <td>14:42</td>\n",
       "      <td>459</td>\n",
       "      <td>26</td>\n",
       "      <td>448</td>\n",
       "      <td>85.272601</td>\n",
       "      <td>3.21054</td>\n",
       "      <td>1</td>\n",
       "      <td>23:42:00</td>\n",
       "    </tr>\n",
       "    <tr>\n",
       "      <th>153</th>\n",
       "      <td>12/12/2021</td>\n",
       "      <td>7039</td>\n",
       "      <td>2</td>\n",
       "      <td>1022</td>\n",
       "      <td>182</td>\n",
       "      <td>8</td>\n",
       "      <td>2586</td>\n",
       "      <td>900</td>\n",
       "      <td>walking</td>\n",
       "      <td>14:43</td>\n",
       "      <td>425</td>\n",
       "      <td>23</td>\n",
       "      <td>448</td>\n",
       "      <td>80.543591</td>\n",
       "      <td>4.29019</td>\n",
       "      <td>1</td>\n",
       "      <td>23:19:00</td>\n",
       "    </tr>\n",
       "  </tbody>\n",
       "</table>\n",
       "<p>154 rows × 17 columns</p>\n",
       "</div>"
      ],
      "text/plain": [
       "           date  steps  minutesVeryActive  minutesSedentary  \\\n",
       "0    12/07/2021  12866                 37               672   \n",
       "1    13/07/2021   2731                  0               907   \n",
       "2    14/07/2021   2160                  0              1055   \n",
       "3    15/07/2021   5725                 23               836   \n",
       "4    16/07/2021   2160                  0              1055   \n",
       "..          ...    ...                ...               ...   \n",
       "149  08/12/2021   4493                  6              1096   \n",
       "150  09/12/2021   3827                  0               890   \n",
       "151  10/12/2021   4416                  0              1080   \n",
       "152  11/12/2021   5901                  0               815   \n",
       "153  12/12/2021   7039                  2              1022   \n",
       "\n",
       "     minutesLightlyActive  minutesFairlyActive  calories  activityCalories  \\\n",
       "0                     269                    5      3245              1600   \n",
       "1                     111                    0      2219               467   \n",
       "2                      72                    0      2029               309   \n",
       "3                     150                   18      2734               961   \n",
       "4                      72                    0      2029               309   \n",
       "..                    ...                  ...       ...               ...   \n",
       "149                   133                   22      2487               750   \n",
       "150                   163                    0      2366               665   \n",
       "151                   179                    0      2423               714   \n",
       "152                   251                    0      2676              1009   \n",
       "153                   182                    8      2586               900   \n",
       "\n",
       "    daily_activity activity_start_time  minutesAsleep  minutesAwake  \\\n",
       "0          running               14:41            508            20   \n",
       "1          walking               14:52            428            29   \n",
       "2          resting               08:00            435             9   \n",
       "3          running               14:47            460            18   \n",
       "4          resting               08:00            487            16   \n",
       "..             ...                 ...            ...           ...   \n",
       "149        walking               14:43            486            22   \n",
       "150        walking               14:41            439            11   \n",
       "151        walking               14:52            440            17   \n",
       "152        walking               14:42            459            26   \n",
       "153        walking               14:43            425            23   \n",
       "\n",
       "     time_in_bed  efficiency  distance  location sleep_start_time  \n",
       "0            448   81.379861   0.14062         1         23:09:00  \n",
       "1            448   86.717956   1.98551         1         23:21:00  \n",
       "2            448   83.857431   3.65184         0         23:51:00  \n",
       "3            448   84.370987   4.16213         1         23:16:00  \n",
       "4            448   87.181815   4.16213         0         23:17:00  \n",
       "..           ...         ...       ...       ...              ...  \n",
       "149          448   84.324086   2.51991         1         23:48:00  \n",
       "150          448   85.170915   3.26652         1         23:28:00  \n",
       "151          448   84.440888   2.78230         1         23:51:00  \n",
       "152          448   85.272601   3.21054         1         23:42:00  \n",
       "153          448   80.543591   4.29019         1         23:19:00  \n",
       "\n",
       "[154 rows x 17 columns]"
      ]
     },
     "execution_count": 19,
     "metadata": {},
     "output_type": "execute_result"
    }
   ],
   "source": [
    "df = pd.read_csv('../data/fitbit_activity_data.csv')\n",
    "df"
   ]
  },
  {
   "cell_type": "code",
   "execution_count": 20,
   "metadata": {},
   "outputs": [
    {
     "data": {
      "text/html": [
       "<div>\n",
       "<style scoped>\n",
       "    .dataframe tbody tr th:only-of-type {\n",
       "        vertical-align: middle;\n",
       "    }\n",
       "\n",
       "    .dataframe tbody tr th {\n",
       "        vertical-align: top;\n",
       "    }\n",
       "\n",
       "    .dataframe thead th {\n",
       "        text-align: right;\n",
       "    }\n",
       "</style>\n",
       "<table border=\"1\" class=\"dataframe\">\n",
       "  <thead>\n",
       "    <tr style=\"text-align: right;\">\n",
       "      <th></th>\n",
       "      <th>date</th>\n",
       "      <th>calories</th>\n",
       "    </tr>\n",
       "  </thead>\n",
       "  <tbody>\n",
       "    <tr>\n",
       "      <th>0</th>\n",
       "      <td>12/07/2021</td>\n",
       "      <td>3245</td>\n",
       "    </tr>\n",
       "    <tr>\n",
       "      <th>1</th>\n",
       "      <td>13/07/2021</td>\n",
       "      <td>2219</td>\n",
       "    </tr>\n",
       "    <tr>\n",
       "      <th>2</th>\n",
       "      <td>14/07/2021</td>\n",
       "      <td>2029</td>\n",
       "    </tr>\n",
       "    <tr>\n",
       "      <th>3</th>\n",
       "      <td>15/07/2021</td>\n",
       "      <td>2734</td>\n",
       "    </tr>\n",
       "    <tr>\n",
       "      <th>4</th>\n",
       "      <td>16/07/2021</td>\n",
       "      <td>2029</td>\n",
       "    </tr>\n",
       "    <tr>\n",
       "      <th>...</th>\n",
       "      <td>...</td>\n",
       "      <td>...</td>\n",
       "    </tr>\n",
       "    <tr>\n",
       "      <th>149</th>\n",
       "      <td>08/12/2021</td>\n",
       "      <td>2487</td>\n",
       "    </tr>\n",
       "    <tr>\n",
       "      <th>150</th>\n",
       "      <td>09/12/2021</td>\n",
       "      <td>2366</td>\n",
       "    </tr>\n",
       "    <tr>\n",
       "      <th>151</th>\n",
       "      <td>10/12/2021</td>\n",
       "      <td>2423</td>\n",
       "    </tr>\n",
       "    <tr>\n",
       "      <th>152</th>\n",
       "      <td>11/12/2021</td>\n",
       "      <td>2676</td>\n",
       "    </tr>\n",
       "    <tr>\n",
       "      <th>153</th>\n",
       "      <td>12/12/2021</td>\n",
       "      <td>2586</td>\n",
       "    </tr>\n",
       "  </tbody>\n",
       "</table>\n",
       "<p>154 rows × 2 columns</p>\n",
       "</div>"
      ],
      "text/plain": [
       "           date  calories\n",
       "0    12/07/2021      3245\n",
       "1    13/07/2021      2219\n",
       "2    14/07/2021      2029\n",
       "3    15/07/2021      2734\n",
       "4    16/07/2021      2029\n",
       "..          ...       ...\n",
       "149  08/12/2021      2487\n",
       "150  09/12/2021      2366\n",
       "151  10/12/2021      2423\n",
       "152  11/12/2021      2676\n",
       "153  12/12/2021      2586\n",
       "\n",
       "[154 rows x 2 columns]"
      ]
     },
     "execution_count": 20,
     "metadata": {},
     "output_type": "execute_result"
    }
   ],
   "source": [
    "# take only the date and calories columns\n",
    "df = df[['date', 'calories']]\n",
    "df"
   ]
  },
  {
   "cell_type": "code",
   "execution_count": 21,
   "metadata": {},
   "outputs": [
    {
     "name": "stdout",
     "output_type": "stream",
     "text": [
      "<class 'pandas.core.frame.DataFrame'>\n",
      "RangeIndex: 154 entries, 0 to 153\n",
      "Data columns (total 2 columns):\n",
      " #   Column    Non-Null Count  Dtype \n",
      "---  ------    --------------  ----- \n",
      " 0   date      154 non-null    object\n",
      " 1   calories  154 non-null    int64 \n",
      "dtypes: int64(1), object(1)\n",
      "memory usage: 2.5+ KB\n"
     ]
    },
    {
     "data": {
      "text/plain": [
       "(154, 2)"
      ]
     },
     "execution_count": 21,
     "metadata": {},
     "output_type": "execute_result"
    }
   ],
   "source": [
    "# check info and shape\n",
    "df.info()\n",
    "df.shape"
   ]
  },
  {
   "cell_type": "code",
   "execution_count": 22,
   "metadata": {},
   "outputs": [
    {
     "name": "stderr",
     "output_type": "stream",
     "text": [
      "C:\\Users\\hasta\\AppData\\Local\\Temp\\ipykernel_12512\\2936265709.py:2: SettingWithCopyWarning: \n",
      "A value is trying to be set on a copy of a slice from a DataFrame.\n",
      "Try using .loc[row_indexer,col_indexer] = value instead\n",
      "\n",
      "See the caveats in the documentation: https://pandas.pydata.org/pandas-docs/stable/user_guide/indexing.html#returning-a-view-versus-a-copy\n",
      "  df['date'] = pd.to_datetime(df['date'], dayfirst=True)\n"
     ]
    }
   ],
   "source": [
    "# convert date column into datetime\n",
    "df['date'] = pd.to_datetime(df['date'], dayfirst=True)"
   ]
  },
  {
   "cell_type": "code",
   "execution_count": 23,
   "metadata": {},
   "outputs": [
    {
     "name": "stdout",
     "output_type": "stream",
     "text": [
      "<class 'pandas.core.frame.DataFrame'>\n",
      "RangeIndex: 154 entries, 0 to 153\n",
      "Data columns (total 2 columns):\n",
      " #   Column    Non-Null Count  Dtype         \n",
      "---  ------    --------------  -----         \n",
      " 0   date      154 non-null    datetime64[ns]\n",
      " 1   calories  154 non-null    int64         \n",
      "dtypes: datetime64[ns](1), int64(1)\n",
      "memory usage: 2.5 KB\n"
     ]
    }
   ],
   "source": [
    "df.info()"
   ]
  },
  {
   "cell_type": "markdown",
   "metadata": {},
   "source": [
    "Checking Missing Values"
   ]
  },
  {
   "cell_type": "code",
   "execution_count": 24,
   "metadata": {},
   "outputs": [
    {
     "data": {
      "text/plain": [
       "date        0\n",
       "calories    0\n",
       "dtype: int64"
      ]
     },
     "execution_count": 24,
     "metadata": {},
     "output_type": "execute_result"
    }
   ],
   "source": [
    "# check for missing values\n",
    "df.isna().sum()"
   ]
  },
  {
   "cell_type": "code",
   "execution_count": 25,
   "metadata": {},
   "outputs": [
    {
     "data": {
      "text/html": [
       "<div>\n",
       "<style scoped>\n",
       "    .dataframe tbody tr th:only-of-type {\n",
       "        vertical-align: middle;\n",
       "    }\n",
       "\n",
       "    .dataframe tbody tr th {\n",
       "        vertical-align: top;\n",
       "    }\n",
       "\n",
       "    .dataframe thead th {\n",
       "        text-align: right;\n",
       "    }\n",
       "</style>\n",
       "<table border=\"1\" class=\"dataframe\">\n",
       "  <thead>\n",
       "    <tr style=\"text-align: right;\">\n",
       "      <th></th>\n",
       "      <th>date</th>\n",
       "      <th>calories</th>\n",
       "    </tr>\n",
       "  </thead>\n",
       "  <tbody>\n",
       "    <tr>\n",
       "      <th>count</th>\n",
       "      <td>154</td>\n",
       "      <td>154.000000</td>\n",
       "    </tr>\n",
       "    <tr>\n",
       "      <th>mean</th>\n",
       "      <td>2021-09-26 12:00:00</td>\n",
       "      <td>2511.785714</td>\n",
       "    </tr>\n",
       "    <tr>\n",
       "      <th>min</th>\n",
       "      <td>2021-07-12 00:00:00</td>\n",
       "      <td>1758.000000</td>\n",
       "    </tr>\n",
       "    <tr>\n",
       "      <th>25%</th>\n",
       "      <td>2021-08-19 06:00:00</td>\n",
       "      <td>2334.000000</td>\n",
       "    </tr>\n",
       "    <tr>\n",
       "      <th>50%</th>\n",
       "      <td>2021-09-26 12:00:00</td>\n",
       "      <td>2524.500000</td>\n",
       "    </tr>\n",
       "    <tr>\n",
       "      <th>75%</th>\n",
       "      <td>2021-11-03 18:00:00</td>\n",
       "      <td>2714.250000</td>\n",
       "    </tr>\n",
       "    <tr>\n",
       "      <th>max</th>\n",
       "      <td>2021-12-12 00:00:00</td>\n",
       "      <td>3256.000000</td>\n",
       "    </tr>\n",
       "    <tr>\n",
       "      <th>std</th>\n",
       "      <td>NaN</td>\n",
       "      <td>318.270017</td>\n",
       "    </tr>\n",
       "  </tbody>\n",
       "</table>\n",
       "</div>"
      ],
      "text/plain": [
       "                      date     calories\n",
       "count                  154   154.000000\n",
       "mean   2021-09-26 12:00:00  2511.785714\n",
       "min    2021-07-12 00:00:00  1758.000000\n",
       "25%    2021-08-19 06:00:00  2334.000000\n",
       "50%    2021-09-26 12:00:00  2524.500000\n",
       "75%    2021-11-03 18:00:00  2714.250000\n",
       "max    2021-12-12 00:00:00  3256.000000\n",
       "std                    NaN   318.270017"
      ]
     },
     "execution_count": 25,
     "metadata": {},
     "output_type": "execute_result"
    }
   ],
   "source": [
    "# check descriptive statistics\n",
    "df.describe()"
   ]
  },
  {
   "cell_type": "markdown",
   "metadata": {},
   "source": [
    "Handling Outliers"
   ]
  },
  {
   "cell_type": "code",
   "execution_count": 26,
   "metadata": {},
   "outputs": [
    {
     "data": {
      "image/png": "[encoded data removed]",
      "text/plain": [
       "<Figure size 700x400 with 1 Axes>"
      ]
     },
     "metadata": {},
     "output_type": "display_data"
    }
   ],
   "source": [
    "# check for outliers\n",
    "plt.figure(figsize=(7, 4))\n",
    "plt.boxplot(df['calories'])\n",
    "plt.title('Boxplot of calories')\n",
    "plt.ylabel('Calories')\n",
    "plt.grid()\n",
    "plt.show()\n"
   ]
  },
  {
   "cell_type": "code",
   "execution_count": 27,
   "metadata": {},
   "outputs": [
    {
     "name": "stderr",
     "output_type": "stream",
     "text": [
      "C:\\Users\\hasta\\AppData\\Local\\Temp\\ipykernel_12512\\862834354.py:12: FutureWarning: A value is trying to be set on a copy of a DataFrame or Series through chained assignment using an inplace method.\n",
      "The behavior will change in pandas 3.0. This inplace method will never work because the intermediate object on which we are setting values always behaves as a copy.\n",
      "\n",
      "For example, when doing 'df[col].method(value, inplace=True)', try using 'df.method({col: value}, inplace=True)' or df[col] = df[col].method(value) instead, to perform the operation inplace on the original object.\n",
      "\n",
      "\n",
      "  df['calories'].mask(lower_than, minimum, inplace=True)\n",
      "C:\\Users\\hasta\\AppData\\Local\\Temp\\ipykernel_12512\\862834354.py:12: FutureWarning: Setting an item of incompatible dtype is deprecated and will raise an error in a future version of pandas. Value '1763.625' has dtype incompatible with int64, please explicitly cast to a compatible dtype first.\n",
      "  df['calories'].mask(lower_than, minimum, inplace=True)\n",
      "C:\\Users\\hasta\\AppData\\Local\\Temp\\ipykernel_12512\\862834354.py:12: SettingWithCopyWarning: \n",
      "A value is trying to be set on a copy of a slice from a DataFrame\n",
      "\n",
      "See the caveats in the documentation: https://pandas.pydata.org/pandas-docs/stable/user_guide/indexing.html#returning-a-view-versus-a-copy\n",
      "  df['calories'].mask(lower_than, minimum, inplace=True)\n",
      "C:\\Users\\hasta\\AppData\\Local\\Temp\\ipykernel_12512\\862834354.py:13: SettingWithCopyWarning: \n",
      "A value is trying to be set on a copy of a slice from a DataFrame\n",
      "\n",
      "See the caveats in the documentation: https://pandas.pydata.org/pandas-docs/stable/user_guide/indexing.html#returning-a-view-versus-a-copy\n",
      "  df['calories'].mask(more_than, maximum, inplace=True)\n"
     ]
    }
   ],
   "source": [
    "# changing outliers in 'calories' column\n",
    "Q1 = (df['calories']).quantile(0.25)\n",
    "Q3 = (df['calories']).quantile(0.75)\n",
    "IQR = Q3 - Q1\n",
    "\n",
    "maximum = Q3 + (1.5*IQR)\n",
    "minimum = Q1 - (1.5*IQR)\n",
    "\n",
    "lower_than = df['calories'] < minimum\n",
    "more_than = df['calories'] > maximum\n",
    "\n",
    "df['calories'].mask(lower_than, minimum, inplace=True)\n",
    "df['calories'].mask(more_than, maximum, inplace=True)"
   ]
  },
  {
   "cell_type": "code",
   "execution_count": 28,
   "metadata": {},
   "outputs": [
    {
     "data": {
      "image/png": "[encoded data removed]",
      "text/plain": [
       "<Figure size 700x400 with 1 Axes>"
      ]
     },
     "metadata": {},
     "output_type": "display_data"
    }
   ],
   "source": [
    "# check for outliers \n",
    "plt.figure(figsize=(7, 4))\n",
    "plt.boxplot(df['calories'])\n",
    "plt.title('Boxplot of calories')\n",
    "plt.ylabel('Calories')\n",
    "plt.grid()\n",
    "plt.show()"
   ]
  },
  {
   "cell_type": "code",
   "execution_count": 29,
   "metadata": {},
   "outputs": [
    {
     "data": {
      "image/png": "[encoded data removed]",
      "text/plain": [
       "<Figure size 700x400 with 1 Axes>"
      ]
     },
     "metadata": {},
     "output_type": "display_data"
    }
   ],
   "source": [
    "# visualize the calories over time\n",
    "plt.figure(figsize=(7, 4))\n",
    "plt.plot(df['date'], df['calories'])\n",
    "plt.title('Calories over time')\n",
    "plt.xlabel('Date')\n",
    "plt.ylabel('Calories')\n",
    "plt.grid()\n",
    "plt.show()"
   ]
  },
  {
   "cell_type": "markdown",
   "metadata": {},
   "source": [
    "Download the Cleaned Data to CSV file"
   ]
  },
  {
   "cell_type": "code",
   "execution_count": 30,
   "metadata": {},
   "outputs": [],
   "source": [
    "# download the cleaned data to a new csv file\n",
    "# df.to_csv('data/cleaned_diet_data.csv', index=False)"
   ]
  },
  {
   "cell_type": "code",
   "execution_count": 31,
   "metadata": {},
   "outputs": [
    {
     "name": "stderr",
     "output_type": "stream",
     "text": [
      "C:\\Users\\hasta\\AppData\\Local\\Temp\\ipykernel_12512\\347241481.py:2: SettingWithCopyWarning: \n",
      "A value is trying to be set on a copy of a slice from a DataFrame.\n",
      "Try using .loc[row_indexer,col_indexer] = value instead\n",
      "\n",
      "See the caveats in the documentation: https://pandas.pydata.org/pandas-docs/stable/user_guide/indexing.html#returning-a-view-versus-a-copy\n",
      "  df['snack_calories'] = df['calories'] * 0.125\n"
     ]
    },
    {
     "data": {
      "text/html": [
       "<div>\n",
       "<style scoped>\n",
       "    .dataframe tbody tr th:only-of-type {\n",
       "        vertical-align: middle;\n",
       "    }\n",
       "\n",
       "    .dataframe tbody tr th {\n",
       "        vertical-align: top;\n",
       "    }\n",
       "\n",
       "    .dataframe thead th {\n",
       "        text-align: right;\n",
       "    }\n",
       "</style>\n",
       "<table border=\"1\" class=\"dataframe\">\n",
       "  <thead>\n",
       "    <tr style=\"text-align: right;\">\n",
       "      <th></th>\n",
       "      <th>date</th>\n",
       "      <th>snack_calories</th>\n",
       "    </tr>\n",
       "  </thead>\n",
       "  <tbody>\n",
       "    <tr>\n",
       "      <th>0</th>\n",
       "      <td>2021-07-12</td>\n",
       "      <td>405.625</td>\n",
       "    </tr>\n",
       "    <tr>\n",
       "      <th>1</th>\n",
       "      <td>2021-07-13</td>\n",
       "      <td>277.375</td>\n",
       "    </tr>\n",
       "    <tr>\n",
       "      <th>2</th>\n",
       "      <td>2021-07-14</td>\n",
       "      <td>253.625</td>\n",
       "    </tr>\n",
       "    <tr>\n",
       "      <th>3</th>\n",
       "      <td>2021-07-15</td>\n",
       "      <td>341.750</td>\n",
       "    </tr>\n",
       "    <tr>\n",
       "      <th>4</th>\n",
       "      <td>2021-07-16</td>\n",
       "      <td>253.625</td>\n",
       "    </tr>\n",
       "    <tr>\n",
       "      <th>...</th>\n",
       "      <td>...</td>\n",
       "      <td>...</td>\n",
       "    </tr>\n",
       "    <tr>\n",
       "      <th>149</th>\n",
       "      <td>2021-12-08</td>\n",
       "      <td>310.875</td>\n",
       "    </tr>\n",
       "    <tr>\n",
       "      <th>150</th>\n",
       "      <td>2021-12-09</td>\n",
       "      <td>295.750</td>\n",
       "    </tr>\n",
       "    <tr>\n",
       "      <th>151</th>\n",
       "      <td>2021-12-10</td>\n",
       "      <td>302.875</td>\n",
       "    </tr>\n",
       "    <tr>\n",
       "      <th>152</th>\n",
       "      <td>2021-12-11</td>\n",
       "      <td>334.500</td>\n",
       "    </tr>\n",
       "    <tr>\n",
       "      <th>153</th>\n",
       "      <td>2021-12-12</td>\n",
       "      <td>323.250</td>\n",
       "    </tr>\n",
       "  </tbody>\n",
       "</table>\n",
       "<p>154 rows × 2 columns</p>\n",
       "</div>"
      ],
      "text/plain": [
       "          date  snack_calories\n",
       "0   2021-07-12         405.625\n",
       "1   2021-07-13         277.375\n",
       "2   2021-07-14         253.625\n",
       "3   2021-07-15         341.750\n",
       "4   2021-07-16         253.625\n",
       "..         ...             ...\n",
       "149 2021-12-08         310.875\n",
       "150 2021-12-09         295.750\n",
       "151 2021-12-10         302.875\n",
       "152 2021-12-11         334.500\n",
       "153 2021-12-12         323.250\n",
       "\n",
       "[154 rows x 2 columns]"
      ]
     },
     "execution_count": 31,
     "metadata": {},
     "output_type": "execute_result"
    }
   ],
   "source": [
    "# make df for snacks data\n",
    "df['snack_calories'] = df['calories'] * 0.125\n",
    "\n",
    "df_snacks = df[['date', 'snack_calories']]\n",
    "df_snacks"
   ]
  },
  {
   "cell_type": "code",
   "execution_count": 32,
   "metadata": {},
   "outputs": [
    {
     "name": "stdout",
     "output_type": "stream",
     "text": [
      "<class 'pandas.core.frame.DataFrame'>\n",
      "RangeIndex: 154 entries, 0 to 153\n",
      "Data columns (total 3 columns):\n",
      " #   Column          Non-Null Count  Dtype         \n",
      "---  ------          --------------  -----         \n",
      " 0   date            154 non-null    datetime64[ns]\n",
      " 1   calories        154 non-null    float64       \n",
      " 2   snack_calories  154 non-null    float64       \n",
      "dtypes: datetime64[ns](1), float64(2)\n",
      "memory usage: 3.7 KB\n"
     ]
    }
   ],
   "source": [
    "df.info()"
   ]
  },
  {
   "cell_type": "code",
   "execution_count": 33,
   "metadata": {},
   "outputs": [],
   "source": [
    "df_snacks.to_csv('../data/cleaned_fitbit_data_snacks.csv', index=False)"
   ]
  },
  {
   "cell_type": "code",
   "execution_count": null,
   "metadata": {},
   "outputs": [],
   "source": []
  }
 ],
 "metadata": {
  "kernelspec": {
   "display_name": "tf_cpu_win",
   "language": "python",
   "name": "python3"
  },
  "language_info": {
   "codemirror_mode": {
    "name": "ipython",
    "version": 3
   },
   "file_extension": ".py",
   "mimetype": "text/x-python",
   "name": "python",
   "nbconvert_exporter": "python",
   "pygments_lexer": "ipython3",
   "version": "3.10.15"
  }
 },
 "nbformat": 4,
 "nbformat_minor": 2
}
